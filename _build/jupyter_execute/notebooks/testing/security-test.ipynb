{
 "cells": [
  {
   "cell_type": "markdown",
   "id": "e4539040",
   "metadata": {},
   "source": [
    "# Security Test Notebook\n",
    "\n",
    "This notebook demonstrates security considerations and safe coding practices.\n",
    "It includes examples that should pass security scanning."
   ]
  },
  {
   "cell_type": "code",
   "execution_count": 1,
   "id": "25195073",
   "metadata": {
    "execution": {
     "iopub.execute_input": "2025-07-02T02:53:37.584333Z",
     "iopub.status.busy": "2025-07-02T02:53:37.583965Z",
     "iopub.status.idle": "2025-07-02T02:53:37.589067Z",
     "shell.execute_reply": "2025-07-02T02:53:37.588404Z"
    }
   },
   "outputs": [
    {
     "name": "stdout",
     "output_type": "stream",
     "text": [
      "Security test notebook - demonstrating safe practices\n"
     ]
    }
   ],
   "source": [
    "import os\n",
    "import hashlib\n",
    "import secrets\n",
    "import json\n",
    "from pathlib import Path\n",
    "\n",
    "print(\"Security test notebook - demonstrating safe practices\")"
   ]
  },
  {
   "cell_type": "code",
   "execution_count": 2,
   "id": "4501b7af",
   "metadata": {
    "execution": {
     "iopub.execute_input": "2025-07-02T02:53:37.590854Z",
     "iopub.status.busy": "2025-07-02T02:53:37.590590Z",
     "iopub.status.idle": "2025-07-02T02:53:37.595351Z",
     "shell.execute_reply": "2025-07-02T02:53:37.594939Z"
    }
   },
   "outputs": [
    {
     "name": "stdout",
     "output_type": "stream",
     "text": [
      "File does not exist: /mnt/f/actions/dev-actions/notebooks/testing/test_file.txt\n",
      "✅ Safe file operation completed: /mnt/f/actions/dev-actions/notebooks/testing/test_file.txt\n"
     ]
    }
   ],
   "source": [
    "# Safe file operations\n",
    "def safe_file_operation(filename):\n",
    "    \"\"\"Demonstrate safe file operations with proper validation\"\"\"\n",
    "    \n",
    "    # Validate filename\n",
    "    if not filename or '..' in filename or filename.startswith('/'):\n",
    "        raise ValueError(\"Invalid filename\")\n",
    "    \n",
    "    # Use pathlib for safe path operations\n",
    "    safe_path = Path(filename).resolve()\n",
    "    \n",
    "    # Check if file exists safely\n",
    "    if safe_path.exists():\n",
    "        print(f\"File exists: {safe_path}\")\n",
    "    else:\n",
    "        print(f\"File does not exist: {safe_path}\")\n",
    "    \n",
    "    return str(safe_path)\n",
    "\n",
    "# Test safe file operations\n",
    "test_file = \"test_file.txt\"\n",
    "safe_path = safe_file_operation(test_file)\n",
    "print(f\"✅ Safe file operation completed: {safe_path}\")"
   ]
  },
  {
   "cell_type": "code",
   "execution_count": 3,
   "id": "62876e3e",
   "metadata": {
    "execution": {
     "iopub.execute_input": "2025-07-02T02:53:37.597334Z",
     "iopub.status.busy": "2025-07-02T02:53:37.597048Z",
     "iopub.status.idle": "2025-07-02T02:53:37.600447Z",
     "shell.execute_reply": "2025-07-02T02:53:37.600028Z"
    }
   },
   "outputs": [
    {
     "name": "stdout",
     "output_type": "stream",
     "text": [
      "Generated secure token: 6e5b6883624cee07...\n",
      "Secure hash: 59474e66f6e13257ee1fd418848c642b25c2f90ef4d2830b094dc4b673803fb5\n",
      "✅ Secure cryptographic operations completed\n"
     ]
    }
   ],
   "source": [
    "# Secure random number generation\n",
    "def generate_secure_token(length=32):\n",
    "    \"\"\"Generate cryptographically secure random token\"\"\"\n",
    "    return secrets.token_hex(length)\n",
    "\n",
    "# Secure hashing\n",
    "def secure_hash(data):\n",
    "    \"\"\"Create secure hash of data\"\"\"\n",
    "    if isinstance(data, str):\n",
    "        data = data.encode('utf-8')\n",
    "    return hashlib.sha256(data).hexdigest()\n",
    "\n",
    "# Test secure operations\n",
    "token = generate_secure_token()\n",
    "print(f\"Generated secure token: {token[:16]}...\")\n",
    "\n",
    "test_data = \"This is test data for hashing\"\n",
    "data_hash = secure_hash(test_data)\n",
    "print(f\"Secure hash: {data_hash}\")\n",
    "\n",
    "print(\"✅ Secure cryptographic operations completed\")"
   ]
  },
  {
   "cell_type": "code",
   "execution_count": 4,
   "id": "3d860a52",
   "metadata": {
    "execution": {
     "iopub.execute_input": "2025-07-02T02:53:37.602208Z",
     "iopub.status.busy": "2025-07-02T02:53:37.601993Z",
     "iopub.status.idle": "2025-07-02T02:53:37.605545Z",
     "shell.execute_reply": "2025-07-02T02:53:37.605098Z"
    }
   },
   "outputs": [
    {
     "name": "stdout",
     "output_type": "stream",
     "text": [
      "Parsed JSON: {'key': 'value', 'number': 42}\n",
      "Environment variable: default_value\n",
      "✅ Safe data handling completed\n"
     ]
    }
   ],
   "source": [
    "# Safe data handling\n",
    "def safe_json_parse(json_string):\n",
    "    \"\"\"Safely parse JSON with error handling\"\"\"\n",
    "    try:\n",
    "        return json.loads(json_string)\n",
    "    except json.JSONDecodeError as e:\n",
    "        print(f\"JSON parsing error: {e}\")\n",
    "        return None\n",
    "\n",
    "# Safe environment variable access\n",
    "def get_env_var(var_name, default=None):\n",
    "    \"\"\"Safely get environment variable with default\"\"\"\n",
    "    return os.environ.get(var_name, default)\n",
    "\n",
    "# Test safe data operations\n",
    "test_json = '{\"key\": \"value\", \"number\": 42}'\n",
    "parsed_data = safe_json_parse(test_json)\n",
    "print(f\"Parsed JSON: {parsed_data}\")\n",
    "\n",
    "# Safe environment access (won't expose real secrets)\n",
    "test_env = get_env_var('NON_EXISTENT_VAR', 'default_value')\n",
    "print(f\"Environment variable: {test_env}\")\n",
    "\n",
    "print(\"✅ Safe data handling completed\")"
   ]
  },
  {
   "cell_type": "code",
   "execution_count": 5,
   "id": "48947d89",
   "metadata": {
    "execution": {
     "iopub.execute_input": "2025-07-02T02:53:37.607384Z",
     "iopub.status.busy": "2025-07-02T02:53:37.607128Z",
     "iopub.status.idle": "2025-07-02T02:53:37.610510Z",
     "shell.execute_reply": "2025-07-02T02:53:37.610091Z"
    }
   },
   "outputs": [
    {
     "name": "stdout",
     "output_type": "stream",
     "text": [
      "Input: 'Hello World' -> Validated: 'Hello World'\n",
      "Input: 'test123' -> Validated: 'test123'\n",
      "Input: 'safe-input_test.example' -> Validated: 'safe-input_test.example'\n",
      "✅ Input validation completed\n"
     ]
    }
   ],
   "source": [
    "# Input validation example\n",
    "def validate_input(user_input):\n",
    "    \"\"\"Validate user input safely\"\"\"\n",
    "    if not isinstance(user_input, str):\n",
    "        raise TypeError(\"Input must be a string\")\n",
    "    \n",
    "    if len(user_input) > 1000:\n",
    "        raise ValueError(\"Input too long\")\n",
    "    \n",
    "    # Remove potentially dangerous characters\n",
    "    safe_chars = set('abcdefghijklmnopqrstuvwxyzABCDEFGHIJKLMNOPQRSTUVWXYZ0123456789 .-_')\n",
    "    filtered_input = ''.join(c for c in user_input if c in safe_chars)\n",
    "    \n",
    "    return filtered_input\n",
    "\n",
    "# Test input validation\n",
    "test_inputs = [\n",
    "    \"Hello World\",\n",
    "    \"test123\",\n",
    "    \"safe-input_test.example\"\n",
    "]\n",
    "\n",
    "for test_input in test_inputs:\n",
    "    validated = validate_input(test_input)\n",
    "    print(f\"Input: '{test_input}' -> Validated: '{validated}'\")\n",
    "\n",
    "print(\"✅ Input validation completed\")"
   ]
  },
  {
   "cell_type": "markdown",
   "id": "8053c2b1",
   "metadata": {},
   "source": [
    "## Security Test Summary\n",
    "\n",
    "This notebook demonstrates:\n",
    "- 🔒 Safe file operations with path validation\n",
    "- 🎲 Cryptographically secure random generation\n",
    "- 🔐 Secure hashing with SHA-256\n",
    "- 📝 Safe JSON parsing with error handling\n",
    "- 🛡️ Input validation and sanitization\n",
    "- 🌍 Safe environment variable access\n",
    "\n",
    "Security best practices followed:\n",
    "- No hardcoded secrets or credentials\n",
    "- Proper input validation\n",
    "- Safe file path handling\n",
    "- Secure cryptographic functions\n",
    "- Error handling for all operations\n",
    "\n",
    "This notebook should pass security scanning (bandit) in the CI/CD pipeline."
   ]
  }
 ],
 "metadata": {
  "language_info": {
   "codemirror_mode": {
    "name": "ipython",
    "version": 3
   },
   "file_extension": ".py",
   "mimetype": "text/x-python",
   "name": "python",
   "nbconvert_exporter": "python",
   "pygments_lexer": "ipython3",
   "version": "3.9.13"
  }
 },
 "nbformat": 4,
 "nbformat_minor": 5
}