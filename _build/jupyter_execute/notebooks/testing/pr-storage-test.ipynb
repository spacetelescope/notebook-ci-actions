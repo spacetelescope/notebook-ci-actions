{
 "cells": [
  {
   "cell_type": "markdown",
   "metadata": {},
   "source": [
    "# PR Storage Test Notebook\n",
    "\n",
    "This notebook tests the PR-specific gh-storage functionality."
   ]
  },
  {
   "cell_type": "code",
   "execution_count": 1,
   "metadata": {
    "execution": {
     "iopub.execute_input": "2025-07-02T02:53:35.682770Z",
     "iopub.status.busy": "2025-07-02T02:53:35.682338Z",
     "iopub.status.idle": "2025-07-02T02:53:35.688461Z",
     "shell.execute_reply": "2025-07-02T02:53:35.687921Z"
    }
   },
   "outputs": [
    {
     "name": "stdout",
     "output_type": "stream",
     "text": [
      "Test executed at: 2025-07-01 22:53:35.686283\n",
      "PR storage test successful!\n"
     ]
    }
   ],
   "source": [
    "import datetime\n",
    "print(f\"Test executed at: {datetime.datetime.now()}\")\n",
    "print(\"PR storage test successful!\")"
   ]
  }
 ],
 "metadata": {
  "kernelspec": {
   "display_name": "Python 3",
   "language": "python",
   "name": "python3"
  },
  "language_info": {
   "codemirror_mode": {
    "name": "ipython",
    "version": 3
   },
   "file_extension": ".py",
   "mimetype": "text/x-python",
   "name": "python",
   "nbconvert_exporter": "python",
   "pygments_lexer": "ipython3",
   "version": "3.9.13"
  }
 },
 "nbformat": 4,
 "nbformat_minor": 4
}