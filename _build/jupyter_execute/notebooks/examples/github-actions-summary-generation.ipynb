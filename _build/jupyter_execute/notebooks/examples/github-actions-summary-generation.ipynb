{
 "cells": [
  {
   "cell_type": "markdown",
   "id": "3a945fa8",
   "metadata": {},
   "source": [
    "# GitHub Actions Workflow Summary Generation\n",
    "\n",
    "This notebook demonstrates how to generate a unified CI/CD summary for notebook workflows using bash scripting and environment variables. It addresses common issues with JSON parsing and provides robust error handling for GitHub Actions step summaries.\n",
    "\n",
    "## Problem Analysis\n",
    "\n",
    "The error you encountered (`Process completed with exit code 5`) is likely caused by:\n",
    "1. Invalid JSON format in the `NOTEBOOKS` variable\n",
    "2. `jq` failing to parse malformed JSON\n",
    "3. Bash's `-e` flag causing script termination on any error\n",
    "\n",
    "Let's walk through the proper way to handle this scenario."
   ]
  },
  {
   "cell_type": "markdown",
   "id": "4dc94fed",
   "metadata": {},
   "source": [
    "## 1. Write Unified Notebook CI/CD Summary Header\n",
    "\n",
    "First, let's create the header and timestamp for our workflow summary. This should be done safely to handle any potential issues."
   ]
  },
  {
   "cell_type": "code",
   "execution_count": null,
   "id": "8fdd92d0",
   "metadata": {
    "vscode": {
     "languageId": "bash"
    }
   },
   "outputs": [],
   "source": [
    "#!/bin/bash\n",
    "\n",
    "# Create a mock GITHUB_STEP_SUMMARY file for demonstration\n",
    "GITHUB_STEP_SUMMARY=\"workflow_summary.md\"\n",
    "\n",
    "# Clear any existing summary\n",
    "> \"$GITHUB_STEP_SUMMARY\"\n",
    "\n",
    "# Write the header with proper error handling\n",
    "{\n",
    "  echo \"## 📊 Unified Notebook CI/CD Summary\"\n",
    "  echo \"*Generated: $(date -u +'%Y-%m-%d %H:%M:%S UTC')*\"\n",
    "  echo \"\"\n",
    "} >> \"$GITHUB_STEP_SUMMARY\"\n",
    "\n",
    "echo \"✅ Header written successfully\"\n",
    "cat \"$GITHUB_STEP_SUMMARY\""
   ]
  },
  {
   "cell_type": "markdown",
   "id": "9910c25a",
   "metadata": {},
   "source": [
    "## 2. Display Configuration Section\n",
    "\n",
    "Now let's add the configuration details with proper conditional logic for optional fields."
   ]
  },
  {
   "cell_type": "code",
   "execution_count": null,
   "id": "77d24870",
   "metadata": {
    "vscode": {
     "languageId": "bash"
    }
   },
   "outputs": [],
   "source": [
    "#!/bin/bash\n",
    "\n",
    "# Set example configuration variables\n",
    "EXECUTION_MODE=\"pr\"\n",
    "TRIGGER_EVENT=\"all\"\n",
    "PYTHON_VERSION=\"3.11\"\n",
    "CONDA_ENVIRONMENT=\"\"  # Empty for demonstration\n",
    "CUSTOM_REQUIREMENTS=\"\"  # Empty for demonstration\n",
    "SINGLE_NOTEBOOK=\"\"  # Empty for demonstration\n",
    "\n",
    "# Add configuration section\n",
    "{\n",
    "  echo \"### 🔧 Configuration\"\n",
    "  echo \"- **Execution Mode**: $EXECUTION_MODE\"\n",
    "  echo \"- **Trigger Event**: $TRIGGER_EVENT\"\n",
    "  echo \"- **Python Version**: $PYTHON_VERSION\"\n",
    "  \n",
    "  # Only add optional fields if they have values\n",
    "  if [ -n \"$CONDA_ENVIRONMENT\" ]; then\n",
    "    echo \"- **Custom Conda Environment**: $CONDA_ENVIRONMENT\"\n",
    "  fi\n",
    "  \n",
    "  if [ -n \"$CUSTOM_REQUIREMENTS\" ]; then\n",
    "    echo \"- **Custom Requirements**: $CUSTOM_REQUIREMENTS\"\n",
    "  fi\n",
    "  \n",
    "  if [ -n \"$SINGLE_NOTEBOOK\" ]; then\n",
    "    echo \"- **Single Notebook Target**: \\`$SINGLE_NOTEBOOK\\`\"\n",
    "  fi\n",
    "  \n",
    "  echo \"\"\n",
    "} >> \"$GITHUB_STEP_SUMMARY\"\n",
    "\n",
    "echo \"✅ Configuration section added\"\n",
    "cat \"$GITHUB_STEP_SUMMARY\""
   ]
  },
  {
   "cell_type": "markdown",
   "id": "e6fbb2c0",
   "metadata": {},
   "source": [
    "## 3. Display Job Results Table\n",
    "\n",
    "Create a markdown table showing the status of each workflow job."
   ]
  },
  {
   "cell_type": "code",
   "execution_count": null,
   "id": "3d76df85",
   "metadata": {
    "vscode": {
     "languageId": "bash"
    }
   },
   "outputs": [],
   "source": [
    "#!/bin/bash\n",
    "\n",
    "# Set job status variables\n",
    "SETUP_RESULT=\"success\"\n",
    "PROCESS_RESULT=\"success\"\n",
    "BUILD_RESULT=\"skipped\"\n",
    "DEPRECATION_RESULT=\"skipped\"\n",
    "\n",
    "# Add job results table\n",
    "{\n",
    "  echo \"### 📊 Job Results\"\n",
    "  echo \"| Job | Status | Duration |\"\n",
    "  echo \"|-----|--------|----------|\"\n",
    "  echo \"| Matrix Setup | $SETUP_RESULT | - |\"\n",
    "  \n",
    "  # Handle special case for merge mode\n",
    "  if [ \"$EXECUTION_MODE\" != \"merge\" ]; then\n",
    "    echo \"| Notebook Processing | $PROCESS_RESULT | - |\"\n",
    "  else\n",
    "    echo \"| Notebook Processing | Skipped (merge mode) | - |\"\n",
    "  fi\n",
    "  \n",
    "  echo \"| Documentation Build | $BUILD_RESULT | - |\"\n",
    "  echo \"| Deprecation Management | $DEPRECATION_RESULT | - |\"\n",
    "  echo \"\"\n",
    "} >> \"$GITHUB_STEP_SUMMARY\"\n",
    "\n",
    "echo \"✅ Job results table added\"\n",
    "cat \"$GITHUB_STEP_SUMMARY\""
   ]
  },
  {
   "cell_type": "markdown",
   "id": "2ca21d6d",
   "metadata": {},
   "source": [
    "## 4. Display Execution Details\n",
    "\n",
    "Add execution details including processed notebooks and affected directories."
   ]
  },
  {
   "cell_type": "code",
   "execution_count": null,
   "id": "daa761c1",
   "metadata": {
    "vscode": {
     "languageId": "bash"
    }
   },
   "outputs": [],
   "source": [
    "#!/bin/bash\n",
    "\n",
    "# Set example notebook data - NOTE: This is the problematic data from your error\n",
    "# The issue was with malformed JSON - missing quotes around array\n",
    "NOTEBOOKS='[\"notebooks/hello-universe/Classifying_JWST-HST_galaxy_mergers_with_CNNs/Classifying_JWST-HST_galaxy_mergers_with_CNNs.ipynb\"]'\n",
    "AFFECTED_DIRS='[\"notebooks/hello-universe/Classifying_JWST-HST_galaxy_mergers_with_CNNs\"]'\n",
    "\n",
    "# Add execution details header\n",
    "{\n",
    "  echo \"### 📝 Execution Details\"\n",
    "} >> \"$GITHUB_STEP_SUMMARY\"\n",
    "\n",
    "echo \"✅ Execution details header added\"\n",
    "echo \"Notebooks variable: $NOTEBOOKS\"\n",
    "echo \"Affected directories: $AFFECTED_DIRS\""
   ]
  },
  {
   "cell_type": "markdown",
   "id": "101724e7",
   "metadata": {},
   "source": [
    "## 5. Determine Notebook Count (Robust Error Handling)\n",
    "\n",
    "This is the critical section where your original script failed. Let's implement robust JSON parsing with proper error handling."
   ]
  },
  {
   "cell_type": "code",
   "execution_count": null,
   "id": "3b9ee123",
   "metadata": {
    "vscode": {
     "languageId": "bash"
    }
   },
   "outputs": [],
   "source": [
    "#!/bin/bash\n",
    "\n",
    "# Function to safely count notebooks with proper error handling\n",
    "count_notebooks() {\n",
    "    local notebooks_json=\"$1\"\n",
    "    local count=0\n",
    "    \n",
    "    # Check for null, empty, or invalid cases first\n",
    "    if [ -z \"$notebooks_json\" ] || [ \"$notebooks_json\" = \"null\" ] || [ \"$notebooks_json\" = \"[]\" ]; then\n",
    "        echo \"0\"\n",
    "        return\n",
    "    fi\n",
    "    \n",
    "    # Try to parse with jq, with fallback\n",
    "    if command -v jq >/dev/null 2>&1; then\n",
    "        # Use jq with error handling\n",
    "        count=$(echo \"$notebooks_json\" | jq -r 'length' 2>/dev/null)\n",
    "        \n",
    "        # Check if jq parsing was successful\n",
    "        if [ $? -eq 0 ] && [ \"$count\" != \"null\" ] && [ -n \"$count\" ]; then\n",
    "            echo \"$count\"\n",
    "        else\n",
    "            echo \"0\"\n",
    "        fi\n",
    "    else\n",
    "        # Fallback method without jq - count comma-separated items\n",
    "        # Remove brackets and count items\n",
    "        clean_json=$(echo \"$notebooks_json\" | sed 's/^\\[//;s/\\]$//')\n",
    "        if [ -n \"$clean_json\" ]; then\n",
    "            # Count commas and add 1, or 1 if no commas\n",
    "            count=$(echo \"$clean_json\" | grep -o ',' | wc -l)\n",
    "            count=$((count + 1))\n",
    "            echo \"$count\"\n",
    "        else\n",
    "            echo \"0\"\n",
    "        fi\n",
    "    fi\n",
    "}\n",
    "\n",
    "# Test with various inputs\n",
    "echo \"Testing notebook counting:\"\n",
    "echo \"Valid JSON: $(count_notebooks \"$NOTEBOOKS\")\"\n",
    "echo \"Empty array: $(count_notebooks '[]')\"\n",
    "echo \"Null: $(count_notebooks 'null')\"\n",
    "echo \"Invalid JSON: $(count_notebooks '[\"malformed')\"\n",
    "\n",
    "# Set the actual notebook count\n",
    "NOTEBOOK_COUNT=$(count_notebooks \"$NOTEBOOKS\")\n",
    "echo \"Final notebook count: $NOTEBOOK_COUNT\""
   ]
  },
  {
   "cell_type": "markdown",
   "id": "327af179",
   "metadata": {},
   "source": [
    "## 6. Determine Overall Workflow Status\n",
    "\n",
    "Count successful and failed jobs to determine the overall workflow status."
   ]
  },
  {
   "cell_type": "code",
   "execution_count": null,
   "id": "d57b1960",
   "metadata": {
    "vscode": {
     "languageId": "bash"
    }
   },
   "outputs": [],
   "source": [
    "#!/bin/bash\n",
    "\n",
    "# Count successful and failed jobs\n",
    "SUCCESS_COUNT=0\n",
    "FAILURE_COUNT=0\n",
    "\n",
    "# Check each job result\n",
    "for result in \"$SETUP_RESULT\" \"$PROCESS_RESULT\" \"$BUILD_RESULT\" \"$DEPRECATION_RESULT\"; do\n",
    "    case \"$result\" in\n",
    "        \"success\") \n",
    "            SUCCESS_COUNT=$((SUCCESS_COUNT + 1)) \n",
    "            ;;\n",
    "        \"failure\") \n",
    "            FAILURE_COUNT=$((FAILURE_COUNT + 1)) \n",
    "            ;;\n",
    "        \"skipped\") \n",
    "            # Don't count skipped jobs as failures\n",
    "            ;;\n",
    "        \"cancelled\") \n",
    "            FAILURE_COUNT=$((FAILURE_COUNT + 1)) \n",
    "            ;;\n",
    "    esac\n",
    "done\n",
    "\n",
    "echo \"Job Status Summary:\"\n",
    "echo \"- Success count: $SUCCESS_COUNT\"\n",
    "echo \"- Failure count: $FAILURE_COUNT\"\n",
    "echo \"- Setup: $SETUP_RESULT\"\n",
    "echo \"- Process: $PROCESS_RESULT\"\n",
    "echo \"- Build: $BUILD_RESULT\" \n",
    "echo \"- Deprecation: $DEPRECATION_RESULT\""
   ]
  },
  {
   "cell_type": "markdown",
   "id": "ac2dfc61",
   "metadata": {},
   "source": [
    "## 7. Display Final Status Indicator\n",
    "\n",
    "Based on the workflow status, append the appropriate final message to the summary."
   ]
  },
  {
   "cell_type": "code",
   "execution_count": null,
   "id": "6ca639bf",
   "metadata": {
    "vscode": {
     "languageId": "bash"
    }
   },
   "outputs": [],
   "source": [
    "#!/bin/bash\n",
    "\n",
    "# Add execution details with notebook count\n",
    "{\n",
    "  echo \"\"\n",
    "  echo \"**Processed Notebooks**: $NOTEBOOK_COUNT\"\n",
    "  echo \"\"\n",
    "} >> \"$GITHUB_STEP_SUMMARY\"\n",
    "\n",
    "# Special handling for process-notebooks in merge mode\n",
    "if [ \"$EXECUTION_MODE\" = \"merge\" ] && [ \"$PROCESS_RESULT\" = \"skipped\" ]; then\n",
    "    {\n",
    "        echo \"**Note**: Notebook processing was intentionally skipped in merge mode\"\n",
    "        echo \"\"\n",
    "    } >> \"$GITHUB_STEP_SUMMARY\"\n",
    "fi\n",
    "\n",
    "# Add final status based on results\n",
    "{\n",
    "    if [ \"$FAILURE_COUNT\" -eq 0 ]; then\n",
    "        echo \"## 🎉 Workflow completed successfully!\"\n",
    "        echo \"*All required jobs completed without errors*\"\n",
    "    elif [ \"$SUCCESS_COUNT\" -gt 0 ]; then\n",
    "        echo \"## ⚠️ Workflow completed with partial success\"\n",
    "        echo \"*Some jobs succeeded but $FAILURE_COUNT job(s) failed - see error details above*\"\n",
    "    else\n",
    "        echo \"## ❌ Workflow failed\"\n",
    "        echo \"*Multiple critical failures occurred - see error details above*\"\n",
    "    fi\n",
    "} >> \"$GITHUB_STEP_SUMMARY\"\n",
    "\n",
    "echo \"✅ Final status added to summary\""
   ]
  },
  {
   "cell_type": "markdown",
   "id": "138f5d1d",
   "metadata": {},
   "source": [
    "## Complete Summary Output\n",
    "\n",
    "Let's display the complete workflow summary that was generated:"
   ]
  },
  {
   "cell_type": "code",
   "execution_count": null,
   "id": "a5ac860d",
   "metadata": {
    "vscode": {
     "languageId": "bash"
    }
   },
   "outputs": [],
   "source": [
    "#!/bin/bash\n",
    "\n",
    "echo \"📄 Complete Workflow Summary:\"\n",
    "echo \"================================\"\n",
    "cat \"$GITHUB_STEP_SUMMARY\"\n",
    "echo \"================================\"\n",
    "echo \"\"\n",
    "echo \"✅ Summary generation completed successfully!\"\n",
    "echo \"   - Total lines: $(wc -l < \"$GITHUB_STEP_SUMMARY\")\"\n",
    "echo \"   - File size: $(wc -c < \"$GITHUB_STEP_SUMMARY\") bytes\""
   ]
  },
  {
   "cell_type": "markdown",
   "id": "384501c7",
   "metadata": {},
   "source": [
    "## Troubleshooting Your Original Error\n",
    "\n",
    "The error you encountered (`Process completed with exit code 5`) was likely caused by:\n",
    "\n",
    "### Issue 1: Malformed JSON\n",
    "Your original `NOTEBOOKS` variable had malformed JSON:\n",
    "```bash\n",
    "NOTEBOOKS=\"[\"notebooks/hello-universe/...\"]\"  # Missing quotes around the string\n",
    "```\n",
    "\n",
    "Should be:\n",
    "```bash\n",
    "NOTEBOOKS='[\"notebooks/hello-universe/...\"]'  # Properly quoted JSON array\n",
    "```\n",
    "\n",
    "### Issue 2: Bash -e Flag\n",
    "The `-e` flag causes bash to exit immediately on any command failure. When `jq` fails to parse invalid JSON, it returns a non-zero exit code, causing the script to terminate.\n",
    "\n",
    "### Issue 3: No Error Handling\n",
    "The original script didn't handle cases where:\n",
    "- `jq` is not available\n",
    "- JSON parsing fails\n",
    "- Variables are null or empty\n",
    "\n",
    "### Solutions Applied:\n",
    "1. **Robust JSON validation** before parsing\n",
    "2. **Fallback methods** when `jq` fails\n",
    "3. **Proper error handling** with null checks\n",
    "4. **Function-based approach** for reusability\n",
    "\n",
    "### Fixed Script Structure:\n",
    "```bash\n",
    "# Use proper JSON quoting\n",
    "NOTEBOOKS='[\"notebook1.ipynb\", \"notebook2.ipynb\"]'\n",
    "\n",
    "# Add error handling\n",
    "if [ \"$NOTEBOOKS\" = \"null\" ] || [ \"$NOTEBOOKS\" = \"\" ] || [ \"$NOTEBOOKS\" = \"[]\" ]; then\n",
    "    NOTEBOOK_COUNT=0\n",
    "else\n",
    "    NOTEBOOK_COUNT=$(echo \"$NOTEBOOKS\" | jq -r 'length' 2>/dev/null || echo \"0\")\n",
    "fi\n",
    "```"
   ]
  }
 ],
 "metadata": {
  "language_info": {
   "name": "python"
  }
 },
 "nbformat": 4,
 "nbformat_minor": 5
}