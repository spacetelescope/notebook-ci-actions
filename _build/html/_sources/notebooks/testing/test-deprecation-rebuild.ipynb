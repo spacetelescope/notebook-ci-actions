{
  "cells": [
    {
      "cell_type": "markdown",
      "metadata": {
        "tags": [
          "deprecation-warning"
        ]
      },
      "source": [
        "<div style='background-color: #f8d7da; border: 1px solid #f5c6cb; border-radius: 4px; padding: 15px; margin: 10px 0; border-left: 4px solid #dc3545;'>\n",
        "<h3 style='color: #721c24; margin-top: 0;'>🚨 DEPRECATED NOTEBOOK</h3>\n",
        "<p style='color: #721c24; margin-bottom: 5px;'><strong>This notebook is scheduled for deprecation on <strong>2025-07-31</strong>.</strong></p>\n",
        "<p style='color: #721c24; margin-bottom: 0;'>Please migrate to newer alternatives or contact maintainers before using this notebook in production.</p>\n",
        "<p style='color: #721c24; margin-bottom: 0; font-size: 0.9em;'><em>This warning was automatically generated during documentation build.</em></p>\n",
        "</div>\n"
      ]
    },
    {
      "cell_type": "markdown",
      "metadata": {
        "tags": [
          "deprecated"
        ]
      },
      "source": [
        "<div style='background-color: #fff3cd; border: 1px solid #ffeaa7; border-radius: 4px; padding: 15px; margin: 10px 0;'>\n",
        "<h3 style='color: #856404; margin-top: 0;'>⚠️ DEPRECATED NOTEBOOK</h3>\n",
        "<p style='color: #856404; margin-bottom: 0;'>This notebook is scheduled for deprecation on <strong>2025-07-31</strong>. It may be moved to the deprecated branch after this date.</p>\n",
        "</div>\n"
      ]
    },
    {
      "cell_type": "markdown",
      "metadata": {},
      "source": [
        "# Test Notebook for Deprecation\n",
        "This notebook will be marked as deprecated and should trigger HTML rebuild."
      ]
    },
    {
      "cell_type": "code",
      "execution_count": null,
      "metadata": {},
      "outputs": [],
      "source": [
        "# This notebook demonstrates deprecation workflow\n",
        "print(\"This notebook will be deprecated\")\n",
        "import datetime\n",
        "print(f\"Current time: {datetime.datetime.now()}\")"
      ]
    },
    {
      "cell_type": "markdown",
      "metadata": {},
      "source": [
        "## Summary\n",
        "This notebook shows what happens when deprecation is triggered."
      ]
    }
  ],
  "metadata": {
    "kernelspec": {
      "display_name": "Python 3",
      "language": "python",
      "name": "python3"
    },
    "language_info": {
      "codemirror_mode": {
        "name": "ipython",
        "version": 3
      },
      "file_extension": ".py",
      "mimetype": "text/x-python",
      "name": "python",
      "nbconvert_exporter": "python",
      "pygments_lexer": "ipython3",
      "version": "3.11.0"
    }
  },
  "nbformat": 4,
  "nbformat_minor": 4
}