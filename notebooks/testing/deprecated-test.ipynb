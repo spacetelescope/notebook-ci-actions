{
 "cells": [
  {
   "cell_type": "markdown",
   "id": "835d94d9",
   "metadata": {},
   "source": [
    "# Deprecated Test Notebook\n",
    "This notebook demonstrates deprecation functionality."
   ]
  },
  {
   "cell_type": "code",
   "execution_count": null,
   "id": "4b785d4d",
   "metadata": {},
   "outputs": [],
   "source": [
    "# This is a deprecated notebook for testing\n",
    "print(\"This functionality is deprecated\")\n",
    "import pandas as pd\n",
    "df = pd.DataFrame({'old_method': [1, 2, 3]})\n",
    "print(df)"
   ]
  }
 ],
 "metadata": {
  "language_info": {
   "name": "python"
  }
 },
 "nbformat": 4,
 "nbformat_minor": 5
}
